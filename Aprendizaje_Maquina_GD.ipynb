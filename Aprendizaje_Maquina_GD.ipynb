{
  "nbformat": 4,
  "nbformat_minor": 0,
  "metadata": {
    "colab": {
      "name": "Aprendizaje_Maquina_GD.ipynb",
      "provenance": [],
      "toc_visible": true,
      "authorship_tag": "ABX9TyMgg+R5u/hP1iFWg9e3PV3+",
      "include_colab_link": true
    },
    "kernelspec": {
      "name": "python3",
      "display_name": "Python 3"
    },
    "language_info": {
      "name": "python"
    }
  },
  "cells": [
    {
      "cell_type": "markdown",
      "metadata": {
        "id": "view-in-github",
        "colab_type": "text"
      },
      "source": [
        "<a href=\"https://colab.research.google.com/github/ElmerAvila09/Portafolio-AprendizajeMaquina/blob/main/Aprendizaje_Maquina_GD.ipynb\" target=\"_parent\"><img src=\"https://colab.research.google.com/assets/colab-badge.svg\" alt=\"Open In Colab\"/></a>"
      ]
    },
    {
      "cell_type": "markdown",
      "source": [
        "## Importacion de los datos"
      ],
      "metadata": {
        "id": "7UIkpEcE6rDV"
      }
    },
    {
      "cell_type": "code",
      "execution_count": 248,
      "metadata": {
        "colab": {
          "base_uri": "https://localhost:8080/"
        },
        "id": "2WdWWysgyAHR",
        "outputId": "211e675b-2d0e-49c8-ce10-f82dddb56e6c"
      },
      "outputs": [
        {
          "output_type": "stream",
          "name": "stdout",
          "text": [
            "<class 'pandas.core.frame.DataFrame'>\n",
            "RangeIndex: 276 entries, 0 to 275\n",
            "Data columns (total 9 columns):\n",
            " #   Column             Non-Null Count  Dtype  \n",
            "---  ------             --------------  -----  \n",
            " 0   Fecha              276 non-null    object \n",
            " 1   Hora               276 non-null    object \n",
            " 2   Nombre             276 non-null    object \n",
            " 3   Calorias (Cal)     276 non-null    int64  \n",
            " 4   Carbohidratos (g)  276 non-null    float64\n",
            " 5   Lipidos (g)        276 non-null    float64\n",
            " 6   Proteinas (g)      276 non-null    float64\n",
            " 7   Sodio (g)          276 non-null    float64\n",
            " 8   Sodio (mg)         276 non-null    float64\n",
            "dtypes: float64(5), int64(1), object(3)\n",
            "memory usage: 19.5+ KB\n",
            "None\n"
          ]
        }
      ],
      "source": [
        "import pandas as pd\n",
        "import numpy as np\n",
        "\n",
        "data = pd.read_csv('alimentos.csv')\n",
        "print(data.info())"
      ]
    },
    {
      "cell_type": "markdown",
      "source": [
        "## Seleccion de datos"
      ],
      "metadata": {
        "id": "NiFX4GYo6w5R"
      }
    },
    {
      "cell_type": "code",
      "source": [
        "# El modelo predecira la cantida de calorias de un alimento a partir del contenido de carbohidratos, lipidos, proteinas y sodio del mismo; de este modo eliminamos las demas columnas, no necesarias\n",
        "# Eliminamos las columnas que no necesitamos\n",
        "data = data.drop(['Fecha', 'Hora', 'Nombre', 'Sodio (mg)'], axis=1)\n",
        "\n",
        "# Los datos no se encuentran ordenados de ninguna manera, podemos dividirlos en 2 datasets: entrenamiento (80%) y testing (20%)\n",
        "data_train = data.iloc[:round(data.shape[0] * .80), :]\n",
        "data_test = data.iloc[round(data.shape[0] * .80):, :]\n",
        "\n",
        "print('\\nTotal de datos:', len(data))\n",
        "print('No. de datos de entreamiento:', len(data_train))\n",
        "print('No. de datos para prediccion:', len(data_test))"
      ],
      "metadata": {
        "colab": {
          "base_uri": "https://localhost:8080/"
        },
        "id": "0T0o_fpW6qBA",
        "outputId": "8772cc56-aedf-4c67-e423-8451be54e324"
      },
      "execution_count": 249,
      "outputs": [
        {
          "output_type": "stream",
          "name": "stdout",
          "text": [
            "\n",
            "Total de datos: 276\n",
            "No. de datos de entreamiento: 221\n",
            "No. de datos para prediccion: 55\n"
          ]
        }
      ]
    },
    {
      "cell_type": "code",
      "source": [
        "# Dividimos cada una de las variables dependientes e independientes\n",
        "x1_train = data_train['Carbohidratos (g)']\n",
        "x2_train = data_train['Lipidos (g)']\n",
        "x3_train = data_train['Proteinas (g)']\n",
        "x4_train = data_train['Sodio (g)']\n",
        "\n",
        "x1_test = data_test['Carbohidratos (g)']\n",
        "x2_test = data_test['Lipidos (g)']\n",
        "x3_test = data_test['Proteinas (g)']\n",
        "x4_test = data_test['Sodio (g)']\n",
        "\n",
        "y_train = data_test[\"Calorias (Cal)\"]\n",
        "y_test = data_test[\"Calorias (Cal)\"]"
      ],
      "metadata": {
        "id": "UX4O9ijF-kPc"
      },
      "execution_count": 250,
      "outputs": []
    },
    {
      "cell_type": "markdown",
      "source": [
        "## Generacion del modelo\n",
        "### **Gradiente Descendiente**"
      ],
      "metadata": {
        "id": "Zz6pXKFTCaMP"
      }
    },
    {
      "cell_type": "code",
      "source": [
        "# Funcion de Hipotesis\n",
        "h = lambda x0, x1, x2, x3, theta: theta[0] + theta[1] *x0 + theta[2] *x1 + theta[3] *x2 + theta[4] *x3\n",
        "\n",
        "# Funcion auxiliar (parcial) de la funcion de costo\n",
        "j_i = lambda x0, x1, x2, x3, y, theta: (h(x0, x1, x2, x3, theta)-y)**2"
      ],
      "metadata": {
        "id": "CL4wf9V4CiZM"
      },
      "execution_count": 251,
      "outputs": []
    },
    {
      "cell_type": "code",
      "source": [
        "#[3,5,2,2,2]\n",
        "# Parametros e hiper-parametro\n",
        "theta = [7,4,8,3,-2]\n",
        "alpha = 0.0000000007\n",
        "\n",
        "n_iter = 70000"
      ],
      "metadata": {
        "id": "th_JSa_LQv9P"
      },
      "execution_count": 252,
      "outputs": []
    },
    {
      "cell_type": "code",
      "source": [
        "# Datos necesarios para las formulas\n",
        "n_train = len(data_train)\n",
        "n_test = len(data_test)\n",
        "\n",
        "# Ciclo para iterar n catidad de veces sobre el modelo\n",
        "for idx in range(n_iter):\n",
        "  acumDelta0 = []\n",
        "  acumDelta1 = []\n",
        "  acumDelta2 = []\n",
        "  acumDelta3 = []\n",
        "  acumDelta4 = []\n",
        "  \n",
        "  for x1, x2, x3, x4, y in zip(x1_train, x2_train, x3_train, x4_train, y_train):\n",
        "    acumDelta0.append(h(x1, x2, x3, x4, theta) - y)\n",
        "    acumDelta1.append(h(x1, x2, x3, x4, theta) - y * x1)\n",
        "    acumDelta2.append(h(x1, x2, x3, x4, theta) - y * x2)\n",
        "    acumDelta3.append(h(x1, x2, x3, x4, theta) - y * x3)\n",
        "    acumDelta4.append(h(x1, x2, x3, x4, theta) - y * x4)\n",
        "\n",
        "  # Sumatoria de los deltas calculados anteriormente, que se emplearan para calcular los nuevos thetas\n",
        "  sum_j0 = sum(acumDelta0)\n",
        "  sum_j1 = sum(acumDelta1)\n",
        "  sum_j2 = sum(acumDelta2)\n",
        "  sum_j3 = sum(acumDelta3)\n",
        "  sum_j4 = sum(acumDelta4)\n",
        "\n",
        "  # Calculo de los nuevos thetas (coeficientes del modelo)\n",
        "  theta[0] = theta[0] - alpha / n_train * sum_j0\n",
        "  theta[1] = theta[1] - alpha / n_train * sum_j1\n",
        "  theta[2] = theta[2] - alpha / n_train * sum_j2\n",
        "  theta[3] = theta[3] - alpha / n_train * sum_j3\n",
        "  theta[4] = theta[4] - alpha / n_train * sum_j4\n",
        "\n",
        "# Impresion de los thetas obtenidos finalmente\n",
        "print('Thetas calculados:', theta)"
      ],
      "metadata": {
        "colab": {
          "base_uri": "https://localhost:8080/"
        },
        "id": "c10t4xy4CT6s",
        "outputId": "9cf8a2de-92f1-46d1-8549-c14fab89f644"
      },
      "execution_count": 253,
      "outputs": [
        {
          "output_type": "stream",
          "name": "stdout",
          "text": [
            "Thetas calculados: [7.001263101469252, 4.089543807351609, 8.032518449885586, 3.0313542010167738, -2.0007969955533556]\n"
          ]
        }
      ]
    },
    {
      "cell_type": "markdown",
      "source": [
        "## Validacion del modelo"
      ],
      "metadata": {
        "id": "rwjN5BuaKWml"
      }
    },
    {
      "cell_type": "code",
      "source": [
        "# Calculo de Error con los datos de prueba/validacion\n",
        "acum_delta = []\n",
        "for x1, x2, x3, x4, y in zip(x1_test, x2_test, x3_test, x4_test, y_test):\n",
        "  acum_delta.append(j_i(x1, x2, x3, x4, y, theta))  \n",
        "\n",
        "sum_delta = sum(acum_delta)  \n",
        "j_test = 1/(2*n_test)*sum_delta\n",
        "\n",
        "# Impresion del Error de prueba/validacion\n",
        "print('Error de validacion:', j_test)\n",
        "\n",
        "# Calculo de Error de los datos de entrenamiento\n",
        "acum_delta = []\n",
        "for x1, x2, x3, x4, y in zip(x1_train, x2_train, x3_train, x4_train, y_train):\n",
        "  acum_delta.append(j_i(x1, x2, x3, x4, y, theta)) \n",
        "\n",
        "sDelta = sum(acum_delta)  \n",
        "j_train = 1/(2*n_train)*sDelta\n",
        "\n",
        "# Impresion del Error con los datos de entrenamiento\n",
        "print('Error de entrenamiento:', j_train)\n",
        "print(theta)"
      ],
      "metadata": {
        "colab": {
          "base_uri": "https://localhost:8080/"
        },
        "id": "P13GDSKnCnR4",
        "outputId": "b08d2515-94c8-48e3-8af1-b3045488a80e"
      },
      "execution_count": 254,
      "outputs": [
        {
          "output_type": "stream",
          "name": "stdout",
          "text": [
            "Error de validacion: 432.00757418211856\n",
            "Error de entrenamiento: 6815.549969805282\n",
            "[7.001263101469252, 4.089543807351609, 8.032518449885586, 3.0313542010167738, -2.0007969955533556]\n"
          ]
        }
      ]
    },
    {
      "cell_type": "markdown",
      "source": [
        "## Predicciones"
      ],
      "metadata": {
        "id": "HEIPpWDCWGM4"
      }
    },
    {
      "cell_type": "code",
      "source": [
        "#y_pred = []\n",
        "y_pred = round(h(data['Carbohidratos (g)'], data['Lipidos (g)'], data['Proteinas (g)'], data['Sodio (g)'], theta))\n",
        "\n",
        "comp_table = pd.DataFrame({'Real': data['Calorias (Cal)'], 'Prediccion': y_pred})\n",
        "comp_table.head(25)"
      ],
      "metadata": {
        "colab": {
          "base_uri": "https://localhost:8080/",
          "height": 833
        },
        "id": "orVHzOltWOVy",
        "outputId": "dda69e47-5d17-4d73-bf42-f533d2b30dea"
      },
      "execution_count": 255,
      "outputs": [
        {
          "output_type": "execute_result",
          "data": {
            "text/plain": [
              "    Real  Prediccion\n",
              "0    400       387.0\n",
              "1    400       387.0\n",
              "2    308       275.0\n",
              "3    141       134.0\n",
              "4    141       134.0\n",
              "5    141       134.0\n",
              "6      0         7.0\n",
              "7    630       626.0\n",
              "8    630       626.0\n",
              "9    159       159.0\n",
              "10    80        89.0\n",
              "11   250       236.0\n",
              "12   420       365.0\n",
              "13   308       275.0\n",
              "14     0         7.0\n",
              "15   422       397.0\n",
              "16   204       198.0\n",
              "17    41        51.0\n",
              "18    16        13.0\n",
              "19   206       186.0\n",
              "20   144       144.0\n",
              "21   308       275.0\n",
              "22   210       179.0\n",
              "23   300       299.0\n",
              "24    33        43.0"
            ],
            "text/html": [
              "\n",
              "  <div id=\"df-84428a0b-4ac4-4ced-b6e3-f33ad8efb46f\">\n",
              "    <div class=\"colab-df-container\">\n",
              "      <div>\n",
              "<style scoped>\n",
              "    .dataframe tbody tr th:only-of-type {\n",
              "        vertical-align: middle;\n",
              "    }\n",
              "\n",
              "    .dataframe tbody tr th {\n",
              "        vertical-align: top;\n",
              "    }\n",
              "\n",
              "    .dataframe thead th {\n",
              "        text-align: right;\n",
              "    }\n",
              "</style>\n",
              "<table border=\"1\" class=\"dataframe\">\n",
              "  <thead>\n",
              "    <tr style=\"text-align: right;\">\n",
              "      <th></th>\n",
              "      <th>Real</th>\n",
              "      <th>Prediccion</th>\n",
              "    </tr>\n",
              "  </thead>\n",
              "  <tbody>\n",
              "    <tr>\n",
              "      <th>0</th>\n",
              "      <td>400</td>\n",
              "      <td>387.0</td>\n",
              "    </tr>\n",
              "    <tr>\n",
              "      <th>1</th>\n",
              "      <td>400</td>\n",
              "      <td>387.0</td>\n",
              "    </tr>\n",
              "    <tr>\n",
              "      <th>2</th>\n",
              "      <td>308</td>\n",
              "      <td>275.0</td>\n",
              "    </tr>\n",
              "    <tr>\n",
              "      <th>3</th>\n",
              "      <td>141</td>\n",
              "      <td>134.0</td>\n",
              "    </tr>\n",
              "    <tr>\n",
              "      <th>4</th>\n",
              "      <td>141</td>\n",
              "      <td>134.0</td>\n",
              "    </tr>\n",
              "    <tr>\n",
              "      <th>5</th>\n",
              "      <td>141</td>\n",
              "      <td>134.0</td>\n",
              "    </tr>\n",
              "    <tr>\n",
              "      <th>6</th>\n",
              "      <td>0</td>\n",
              "      <td>7.0</td>\n",
              "    </tr>\n",
              "    <tr>\n",
              "      <th>7</th>\n",
              "      <td>630</td>\n",
              "      <td>626.0</td>\n",
              "    </tr>\n",
              "    <tr>\n",
              "      <th>8</th>\n",
              "      <td>630</td>\n",
              "      <td>626.0</td>\n",
              "    </tr>\n",
              "    <tr>\n",
              "      <th>9</th>\n",
              "      <td>159</td>\n",
              "      <td>159.0</td>\n",
              "    </tr>\n",
              "    <tr>\n",
              "      <th>10</th>\n",
              "      <td>80</td>\n",
              "      <td>89.0</td>\n",
              "    </tr>\n",
              "    <tr>\n",
              "      <th>11</th>\n",
              "      <td>250</td>\n",
              "      <td>236.0</td>\n",
              "    </tr>\n",
              "    <tr>\n",
              "      <th>12</th>\n",
              "      <td>420</td>\n",
              "      <td>365.0</td>\n",
              "    </tr>\n",
              "    <tr>\n",
              "      <th>13</th>\n",
              "      <td>308</td>\n",
              "      <td>275.0</td>\n",
              "    </tr>\n",
              "    <tr>\n",
              "      <th>14</th>\n",
              "      <td>0</td>\n",
              "      <td>7.0</td>\n",
              "    </tr>\n",
              "    <tr>\n",
              "      <th>15</th>\n",
              "      <td>422</td>\n",
              "      <td>397.0</td>\n",
              "    </tr>\n",
              "    <tr>\n",
              "      <th>16</th>\n",
              "      <td>204</td>\n",
              "      <td>198.0</td>\n",
              "    </tr>\n",
              "    <tr>\n",
              "      <th>17</th>\n",
              "      <td>41</td>\n",
              "      <td>51.0</td>\n",
              "    </tr>\n",
              "    <tr>\n",
              "      <th>18</th>\n",
              "      <td>16</td>\n",
              "      <td>13.0</td>\n",
              "    </tr>\n",
              "    <tr>\n",
              "      <th>19</th>\n",
              "      <td>206</td>\n",
              "      <td>186.0</td>\n",
              "    </tr>\n",
              "    <tr>\n",
              "      <th>20</th>\n",
              "      <td>144</td>\n",
              "      <td>144.0</td>\n",
              "    </tr>\n",
              "    <tr>\n",
              "      <th>21</th>\n",
              "      <td>308</td>\n",
              "      <td>275.0</td>\n",
              "    </tr>\n",
              "    <tr>\n",
              "      <th>22</th>\n",
              "      <td>210</td>\n",
              "      <td>179.0</td>\n",
              "    </tr>\n",
              "    <tr>\n",
              "      <th>23</th>\n",
              "      <td>300</td>\n",
              "      <td>299.0</td>\n",
              "    </tr>\n",
              "    <tr>\n",
              "      <th>24</th>\n",
              "      <td>33</td>\n",
              "      <td>43.0</td>\n",
              "    </tr>\n",
              "  </tbody>\n",
              "</table>\n",
              "</div>\n",
              "      <button class=\"colab-df-convert\" onclick=\"convertToInteractive('df-84428a0b-4ac4-4ced-b6e3-f33ad8efb46f')\"\n",
              "              title=\"Convert this dataframe to an interactive table.\"\n",
              "              style=\"display:none;\">\n",
              "        \n",
              "  <svg xmlns=\"http://www.w3.org/2000/svg\" height=\"24px\"viewBox=\"0 0 24 24\"\n",
              "       width=\"24px\">\n",
              "    <path d=\"M0 0h24v24H0V0z\" fill=\"none\"/>\n",
              "    <path d=\"M18.56 5.44l.94 2.06.94-2.06 2.06-.94-2.06-.94-.94-2.06-.94 2.06-2.06.94zm-11 1L8.5 8.5l.94-2.06 2.06-.94-2.06-.94L8.5 2.5l-.94 2.06-2.06.94zm10 10l.94 2.06.94-2.06 2.06-.94-2.06-.94-.94-2.06-.94 2.06-2.06.94z\"/><path d=\"M17.41 7.96l-1.37-1.37c-.4-.4-.92-.59-1.43-.59-.52 0-1.04.2-1.43.59L10.3 9.45l-7.72 7.72c-.78.78-.78 2.05 0 2.83L4 21.41c.39.39.9.59 1.41.59.51 0 1.02-.2 1.41-.59l7.78-7.78 2.81-2.81c.8-.78.8-2.07 0-2.86zM5.41 20L4 18.59l7.72-7.72 1.47 1.35L5.41 20z\"/>\n",
              "  </svg>\n",
              "      </button>\n",
              "      \n",
              "  <style>\n",
              "    .colab-df-container {\n",
              "      display:flex;\n",
              "      flex-wrap:wrap;\n",
              "      gap: 12px;\n",
              "    }\n",
              "\n",
              "    .colab-df-convert {\n",
              "      background-color: #E8F0FE;\n",
              "      border: none;\n",
              "      border-radius: 50%;\n",
              "      cursor: pointer;\n",
              "      display: none;\n",
              "      fill: #1967D2;\n",
              "      height: 32px;\n",
              "      padding: 0 0 0 0;\n",
              "      width: 32px;\n",
              "    }\n",
              "\n",
              "    .colab-df-convert:hover {\n",
              "      background-color: #E2EBFA;\n",
              "      box-shadow: 0px 1px 2px rgba(60, 64, 67, 0.3), 0px 1px 3px 1px rgba(60, 64, 67, 0.15);\n",
              "      fill: #174EA6;\n",
              "    }\n",
              "\n",
              "    [theme=dark] .colab-df-convert {\n",
              "      background-color: #3B4455;\n",
              "      fill: #D2E3FC;\n",
              "    }\n",
              "\n",
              "    [theme=dark] .colab-df-convert:hover {\n",
              "      background-color: #434B5C;\n",
              "      box-shadow: 0px 1px 3px 1px rgba(0, 0, 0, 0.15);\n",
              "      filter: drop-shadow(0px 1px 2px rgba(0, 0, 0, 0.3));\n",
              "      fill: #FFFFFF;\n",
              "    }\n",
              "  </style>\n",
              "\n",
              "      <script>\n",
              "        const buttonEl =\n",
              "          document.querySelector('#df-84428a0b-4ac4-4ced-b6e3-f33ad8efb46f button.colab-df-convert');\n",
              "        buttonEl.style.display =\n",
              "          google.colab.kernel.accessAllowed ? 'block' : 'none';\n",
              "\n",
              "        async function convertToInteractive(key) {\n",
              "          const element = document.querySelector('#df-84428a0b-4ac4-4ced-b6e3-f33ad8efb46f');\n",
              "          const dataTable =\n",
              "            await google.colab.kernel.invokeFunction('convertToInteractive',\n",
              "                                                     [key], {});\n",
              "          if (!dataTable) return;\n",
              "\n",
              "          const docLinkHtml = 'Like what you see? Visit the ' +\n",
              "            '<a target=\"_blank\" href=https://colab.research.google.com/notebooks/data_table.ipynb>data table notebook</a>'\n",
              "            + ' to learn more about interactive tables.';\n",
              "          element.innerHTML = '';\n",
              "          dataTable['output_type'] = 'display_data';\n",
              "          await google.colab.output.renderOutput(dataTable, element);\n",
              "          const docLink = document.createElement('div');\n",
              "          docLink.innerHTML = docLinkHtml;\n",
              "          element.appendChild(docLink);\n",
              "        }\n",
              "      </script>\n",
              "    </div>\n",
              "  </div>\n",
              "  "
            ]
          },
          "metadata": {},
          "execution_count": 255
        }
      ]
    }
  ]
}